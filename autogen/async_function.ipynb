{
 "cells": [
  {
   "cell_type": "code",
   "execution_count": null,
   "id": "fbda4d2f",
   "metadata": {},
   "outputs": [],
   "source": []
  },
  {
   "cell_type": "markdown",
   "id": "d5a97efb",
   "metadata": {},
   "source": [
    "## Async in python"
   ]
  },
  {
   "cell_type": "code",
   "execution_count": 2,
   "id": "0e09cb55",
   "metadata": {},
   "outputs": [
    {
     "name": "stdout",
     "output_type": "stream",
     "text": [
      "Function 1 executed\n",
      "Function 2 executed\n",
      "Script executed successfully\n"
     ]
    }
   ],
   "source": [
    "#sync\n",
    "def fun1():\n",
    "    print(\"Function 1 executed\")\n",
    "\n",
    "\n",
    "def fun2():\n",
    "    print(\"Function 2 executed\")\n",
    "\n",
    "fun1() \n",
    "fun2()\n",
    "print(\"Script executed successfully\")   "
   ]
  },
  {
   "cell_type": "code",
   "execution_count": 4,
   "id": "5a31a77d",
   "metadata": {},
   "outputs": [
    {
     "name": "stdout",
     "output_type": "stream",
     "text": [
      "Brewing coffee...\n",
      "Coffee is ready!\n",
      "Toasting bread...\n",
      "Bread is toasted!\n",
      "Breakfast prepared in 6.00 seconds\n"
     ]
    }
   ],
   "source": [
    "import time\n",
    "\n",
    "def brew_coffee():\n",
    "    print(\"Brewing coffee...\")\n",
    "    time.sleep(3)  # Simulate time taken to brew coffee\n",
    "    print(\"Coffee is ready!\")\n",
    "\n",
    "def toast_bread():\n",
    "    print(\"Toasting bread...\")\n",
    "    time.sleep(3)  # Simulate time taken to toast bread\n",
    "    print(\"Bread is toasted!\")  \n",
    "\n",
    "def prepare_breakfast():\n",
    "    start= time.time()\n",
    "    coffee= brew_coffee()\n",
    "    bread= toast_bread()\n",
    "    end= time.time()\n",
    "\n",
    "    print(f\"Breakfast prepared in {end - start:.2f} seconds\")      \n",
    "\n",
    "prepare_breakfast()"
   ]
  },
  {
   "cell_type": "code",
   "execution_count": 5,
   "id": "fea5cbd3",
   "metadata": {},
   "outputs": [
    {
     "name": "stdout",
     "output_type": "stream",
     "text": [
      "Brewing coffee...\n",
      "Toasting bread...\n",
      "Coffee is ready!\n",
      "Bread is toasted!\n",
      "Breakfast prepared in 3.00 seconds\n"
     ]
    }
   ],
   "source": [
    "import time\n",
    "import asyncio\n",
    "#async\n",
    "async def brew_coffee():\n",
    "    print(\"Brewing coffee...\")\n",
    "    await asyncio.sleep(3)  # Simulate time taken to brew coffee\n",
    "    print(\"Coffee is ready!\")\n",
    "\n",
    "async def toast_bread():\n",
    "    print(\"Toasting bread...\")\n",
    "    await asyncio.sleep(3)  # Simulate time taken to toast bread\n",
    "    print(\"Bread is toasted!\")  \n",
    "\n",
    "\n",
    "async def prepare_breakfast():\n",
    "    start = time.time()\n",
    "    coffee= brew_coffee()\n",
    "    toast= toast_bread()\n",
    "    result=await asyncio.gather(coffee,toast)\n",
    "    end = time.time()\n",
    "\n",
    "    print(f'Breakfast prepared in {end - start:.2f} seconds')\n",
    "\n",
    "await prepare_breakfast()\n",
    "\n",
    "\n"
   ]
  },
  {
   "cell_type": "code",
   "execution_count": null,
   "id": "17df34da",
   "metadata": {},
   "outputs": [],
   "source": [
    " "
   ]
  }
 ],
 "metadata": {
  "kernelspec": {
   "display_name": "agent",
   "language": "python",
   "name": "python3"
  },
  "language_info": {
   "codemirror_mode": {
    "name": "ipython",
    "version": 3
   },
   "file_extension": ".py",
   "mimetype": "text/x-python",
   "name": "python",
   "nbconvert_exporter": "python",
   "pygments_lexer": "ipython3",
   "version": "3.13.5"
  }
 },
 "nbformat": 4,
 "nbformat_minor": 5
}
