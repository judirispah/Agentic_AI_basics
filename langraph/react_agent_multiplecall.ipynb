{
 "cells": [
  {
   "cell_type": "code",
   "execution_count": null,
   "id": "755b1875",
   "metadata": {},
   "outputs": [],
   "source": [
    "from dotenv import load_dotenv\n",
    "load_dotenv()\n",
    "import os\n",
    "api_key=os.getenv(\"GROQ_API_KEY\")\n",
    "\n",
    "model=\"deepseek-r1-distill-llama-70b\"\n",
    "#api_key=\"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\"\n",
    "\n"
   ]
  },
  {
   "cell_type": "code",
   "execution_count": 41,
   "id": "d9182e4e",
   "metadata": {},
   "outputs": [
    {
     "data": {
      "text/plain": [
       "AIMessage(content='<think>\\n\\n</think>\\n\\nHello! How can I assist you today? 😊', additional_kwargs={}, response_metadata={'token_usage': {'completion_tokens': 16, 'prompt_tokens': 4, 'total_tokens': 20, 'completion_time': 0.084641336, 'prompt_time': 5.5199e-05, 'queue_time': 0.057998851000000004, 'total_time': 0.084696535}, 'model_name': 'deepseek-r1-distill-llama-70b', 'system_fingerprint': 'fp_76307ac09b', 'finish_reason': 'stop', 'logprobs': None}, id='run--38b595f2-cec6-4b9c-b5fc-1b80041a9b17-0', usage_metadata={'input_tokens': 4, 'output_tokens': 16, 'total_tokens': 20})"
      ]
     },
     "execution_count": 41,
     "metadata": {},
     "output_type": "execute_result"
    }
   ],
   "source": [
    "from langchain_groq import ChatGroq\n",
    "llm=ChatGroq( model_name=model,api_key=api_key )\n",
    "llm.invoke(\"hi\")"
   ]
  },
  {
   "cell_type": "code",
   "execution_count": 42,
   "id": "0768a0f0",
   "metadata": {},
   "outputs": [],
   "source": [
    "\n",
    "import operator\n",
    "from typing import List\n",
    "from langgraph.graph.message import add_messages\n",
    "from pydantic import BaseModel , Field\n",
    "from typing import TypedDict, Annotated, Sequence\n",
    "from langchain_core.messages import BaseMessage\n",
    "from langchain_core.output_parsers import StrOutputParser\n",
    "from langchain_core.prompts import ChatPromptTemplate, PromptTemplate\n",
    "\n",
    "from langchain_core.tools import tool\n",
    "from langchain_core.messages import HumanMessage, AIMessage\n",
    "from langgraph.graph import StateGraph,MessagesState,START,END\n",
    "from langgraph.prebuilt import ToolNode"
   ]
  },
  {
   "cell_type": "code",
   "execution_count": 43,
   "id": "1d2cf69d",
   "metadata": {},
   "outputs": [],
   "source": [
    "\n",
    "def call_model(state: MessagesState):\n",
    "    messages = state['messages']\n",
    "    response = llm.invoke(messages)\n",
    "    return {\"messages\": [response]}"
   ]
  },
  {
   "cell_type": "code",
   "execution_count": 44,
   "id": "b60cb4fc",
   "metadata": {},
   "outputs": [
    {
     "data": {
      "text/plain": [
       "{'messages': [AIMessage(content=\"<think>\\n\\n</think>\\n\\nHello! I'm just a virtual assistant, so I don't have feelings, but I'm here and ready to help you with whatever you need. How are *you* doing? 😊\", additional_kwargs={}, response_metadata={'token_usage': {'completion_tokens': 44, 'prompt_tokens': 9, 'total_tokens': 53, 'completion_time': 0.186230398, 'prompt_time': 0.000253377, 'queue_time': 0.058745153, 'total_time': 0.186483775}, 'model_name': 'deepseek-r1-distill-llama-70b', 'system_fingerprint': 'fp_76307ac09b', 'finish_reason': 'stop', 'logprobs': None}, id='run--6e358722-7f7d-4097-92ae-ac9e2e8ae5f5-0', usage_metadata={'input_tokens': 9, 'output_tokens': 44, 'total_tokens': 53})]}"
      ]
     },
     "execution_count": 44,
     "metadata": {},
     "output_type": "execute_result"
    }
   ],
   "source": [
    "state={\"messages\":[\"hi hello how are you?\"]}\n",
    "call_model(state)"
   ]
  },
  {
   "cell_type": "code",
   "execution_count": 45,
   "id": "0b17f66b",
   "metadata": {},
   "outputs": [],
   "source": [
    "\n",
    "from langchain_core.messages import AnyMessage\n",
    "class MessagesState(TypedDict):\n",
    "    messages: Annotated[list[AnyMessage], add_messages]\n",
    "\n",
    "\n",
    "class AgentState(TypedDict):\n",
    "    messages: Annotated[Sequence[BaseMessage], operator.add]"
   ]
  },
  {
   "cell_type": "code",
   "execution_count": 46,
   "id": "ebf40205",
   "metadata": {},
   "outputs": [
    {
     "data": {
      "image/png": "[encoded data removed]",
      "text/plain": [
       "<langgraph.graph.state.CompiledStateGraph object at 0x000001E0DCC155B0>"
      ]
     },
     "execution_count": 46,
     "metadata": {},
     "output_type": "execute_result"
    }
   ],
   "source": [
    "workflow=StateGraph(MessagesState)\n",
    "workflow.add_node(\"mybot\",call_model)\n",
    "workflow.add_edge(START,\"mybot\")\n",
    "workflow.add_edge(\"mybot\",END)\n",
    "app=workflow.compile()\n",
    "app\n",
    "\n",
    "\n",
    "\n"
   ]
  },
  {
   "cell_type": "code",
   "execution_count": 47,
   "id": "84a7c26b",
   "metadata": {},
   "outputs": [
    {
     "data": {
      "text/plain": [
       "{'messages': [HumanMessage(content='hi hello how are you?', additional_kwargs={}, response_metadata={}, id='aa387060-b27a-45d9-812f-9d29c7ee014d'),\n",
       "  AIMessage(content=\"<think>\\n\\n</think>\\n\\nHello! I'm just a virtual assistant, so I don't have feelings, but I'm here and ready to help you with whatever you need. How are you doing? 😊\", additional_kwargs={}, response_metadata={'token_usage': {'completion_tokens': 42, 'prompt_tokens': 9, 'total_tokens': 51, 'completion_time': 0.185641073, 'prompt_time': 0.000205368, 'queue_time': 0.055494787000000004, 'total_time': 0.185846441}, 'model_name': 'deepseek-r1-distill-llama-70b', 'system_fingerprint': 'fp_76307ac09b', 'finish_reason': 'stop', 'logprobs': None}, id='run--c4e0902b-55dd-458c-ab03-2ff2da6630a4-0', usage_metadata={'input_tokens': 9, 'output_tokens': 42, 'total_tokens': 51})]}"
      ]
     },
     "execution_count": 47,
     "metadata": {},
     "output_type": "execute_result"
    }
   ],
   "source": [
    "input={\"messages\":[\"hi hello how are you?\"]}\n",
    "app.invoke(input)\n",
    "\n"
   ]
  },
  {
   "cell_type": "code",
   "execution_count": 48,
   "id": "ba5feea1",
   "metadata": {},
   "outputs": [
    {
     "name": "stdout",
     "output_type": "stream",
     "text": [
      "Output from mybot Node\n",
      "_______\n",
      "{'messages': [AIMessage(content=\"<think>\\n\\n</think>\\n\\nHi! Hello! I'm just a virtual assistant, so I don't have feelings, but I'm here and ready to help you with whatever you need. How are you doing? 😊\", additional_kwargs={}, response_metadata={'token_usage': {'completion_tokens': 44, 'prompt_tokens': 9, 'total_tokens': 53, 'completion_time': 0.202897915, 'prompt_time': 0.000217878, 'queue_time': 0.055370547, 'total_time': 0.203115793}, 'model_name': 'deepseek-r1-distill-llama-70b', 'system_fingerprint': 'fp_76307ac09b', 'finish_reason': 'stop', 'logprobs': None}, id='run--06beefd8-165e-4290-b320-96d623bb27fd-0', usage_metadata={'input_tokens': 9, 'output_tokens': 44, 'total_tokens': 53})]}\n",
      "\n",
      "\n"
     ]
    }
   ],
   "source": [
    "\n",
    "for output in app.stream(input):\n",
    "    for key,value in output.items():\n",
    "        print(f\"Output from {key} Node\")\n",
    "        print(\"_______\")\n",
    "        print(value)\n",
    "        print(\"\\n\")"
   ]
  },
  {
   "cell_type": "code",
   "execution_count": 49,
   "id": "14c233a5",
   "metadata": {},
   "outputs": [],
   "source": [
    "\n",
    "@tool\n",
    "def search(query:str):\n",
    "    \"\"\"this is my custom tool for searching a weather\"\"\"\n",
    "    if \"delhi\" in query.lower():\n",
    "        return \"the temp is 45 degree and sunny\"\n",
    "    return \"the temp is 25 degree and cloudy\""
   ]
  },
  {
   "cell_type": "markdown",
   "id": "b9c4abd9",
   "metadata": {},
   "source": [
    "with tool calling"
   ]
  },
  {
   "cell_type": "markdown",
   "id": "743d5b3c",
   "metadata": {},
   "source": [
    "search.invoke(\"what is a tempurature in kashmir?\")\n"
   ]
  },
  {
   "cell_type": "code",
   "execution_count": 50,
   "id": "bc586505",
   "metadata": {},
   "outputs": [
    {
     "data": {
      "text/plain": [
       "'the temp is 25 degree and cloudy'"
      ]
     },
     "execution_count": 50,
     "metadata": {},
     "output_type": "execute_result"
    }
   ],
   "source": [
    "search.invoke(\"what is a tempurature in kashmir?\")\n"
   ]
  },
  {
   "cell_type": "code",
   "execution_count": 51,
   "id": "7c4f749f",
   "metadata": {},
   "outputs": [
    {
     "data": {
      "text/plain": [
       "'the temp is 45 degree and sunny'"
      ]
     },
     "execution_count": 51,
     "metadata": {},
     "output_type": "execute_result"
    }
   ],
   "source": [
    "search.invoke(\"what is a tempurature in delhi?\")\n"
   ]
  },
  {
   "cell_type": "code",
   "execution_count": 52,
   "id": "874bfbf7",
   "metadata": {},
   "outputs": [
    {
     "data": {
      "text/plain": [
       "AIMessage(content='<think>\\n\\n</think>\\n\\nAs of my last update in July 2024, I cannot provide real-time weather information. However, Delhi experiences a humid subtropical climate with distinct seasons:\\n\\n- **Summer (April to June):** Extremely hot with temperatures often reaching 45°C (113°F).\\n- **Monsoon (July to September):** Hot and humid with heavy rainfall.\\n- **Winter (December to February):** Cool with temperatures dropping to around 5°C (41°F).\\n- **Spring (March to April):** Mild and pleasant.\\n\\nFor the current weather in Delhi, please check a reliable weather service like AccuWeather, Weather.com, or the India Meteorological Department (IMD).', additional_kwargs={}, response_metadata={'token_usage': {'completion_tokens': 142, 'prompt_tokens': 11, 'total_tokens': 153, 'completion_time': 0.516363636, 'prompt_time': 0.000284117, 'queue_time': 0.055754513, 'total_time': 0.516647753}, 'model_name': 'deepseek-r1-distill-llama-70b', 'system_fingerprint': 'fp_76307ac09b', 'finish_reason': 'stop', 'logprobs': None}, id='run--fb204cc6-910d-415c-99f4-07fa79043c27-0', usage_metadata={'input_tokens': 11, 'output_tokens': 142, 'total_tokens': 153})"
      ]
     },
     "execution_count": 52,
     "metadata": {},
     "output_type": "execute_result"
    }
   ],
   "source": [
    "llm.invoke(\"what is a weather in delhi?\")\n"
   ]
  },
  {
   "cell_type": "markdown",
   "id": "bf74253b",
   "metadata": {},
   "source": [
    "binding tool to llm"
   ]
  },
  {
   "cell_type": "code",
   "execution_count": 53,
   "id": "38171ea1",
   "metadata": {},
   "outputs": [],
   "source": [
    "tools=[search]\n",
    "llm_with_tool=llm.bind_tools(tools)\n",
    "\n",
    "\n"
   ]
  },
  {
   "cell_type": "code",
   "execution_count": 54,
   "id": "54f33145",
   "metadata": {},
   "outputs": [],
   "source": [
    "response=llm_with_tool.invoke(\"what is a weather is delhi?\")\n"
   ]
  },
  {
   "cell_type": "code",
   "execution_count": 55,
   "id": "64db5a9e",
   "metadata": {},
   "outputs": [
    {
     "data": {
      "text/plain": [
       "''"
      ]
     },
     "execution_count": 55,
     "metadata": {},
     "output_type": "execute_result"
    }
   ],
   "source": [
    "response.content\n"
   ]
  },
  {
   "cell_type": "code",
   "execution_count": 56,
   "id": "0442d5b7",
   "metadata": {},
   "outputs": [
    {
     "data": {
      "text/plain": [
       "[{'name': 'search',\n",
       "  'args': {'query': 'Delhi'},\n",
       "  'id': '5rb19d4kk',\n",
       "  'type': 'tool_call'}]"
      ]
     },
     "execution_count": 56,
     "metadata": {},
     "output_type": "execute_result"
    }
   ],
   "source": [
    "response.tool_calls\n"
   ]
  },
  {
   "cell_type": "code",
   "execution_count": 57,
   "id": "4da114e1",
   "metadata": {},
   "outputs": [],
   "source": [
    "def call_model(state:MessagesState):\n",
    "    question=state[\"messages\"]\n",
    "    response=llm_with_tool.invoke(question)\n",
    "    return {\"messages\":[response]}"
   ]
  },
  {
   "cell_type": "code",
   "execution_count": 58,
   "id": "517a347c",
   "metadata": {},
   "outputs": [],
   "source": [
    "input={\"messages\":[\"what is a weather in delhi?\"]}\n",
    "response=call_model(input)\n",
    "\n"
   ]
  },
  {
   "cell_type": "code",
   "execution_count": 59,
   "id": "5bb3e36c",
   "metadata": {},
   "outputs": [
    {
     "data": {
      "text/plain": [
       "''"
      ]
     },
     "execution_count": 59,
     "metadata": {},
     "output_type": "execute_result"
    }
   ],
   "source": [
    "response[\"messages\"][-1].content\n"
   ]
  },
  {
   "cell_type": "code",
   "execution_count": 60,
   "id": "39f24015",
   "metadata": {},
   "outputs": [
    {
     "data": {
      "text/plain": [
       "[{'name': 'search',\n",
       "  'args': {'query': 'weather in Delhi'},\n",
       "  'id': 'x9apb6zjy',\n",
       "  'type': 'tool_call'}]"
      ]
     },
     "execution_count": 60,
     "metadata": {},
     "output_type": "execute_result"
    }
   ],
   "source": [
    "response[\"messages\"][-1].tool_calls\n"
   ]
  },
  {
   "cell_type": "code",
   "execution_count": 61,
   "id": "13da673b",
   "metadata": {},
   "outputs": [],
   "source": [
    "def router_function(state:MessagesState):\n",
    "    message=state[\"messages\"]\n",
    "    last_message=message[-1]\n",
    "    if last_message.tool_calls:\n",
    "        return \"tools\"\n",
    "    return END\n",
    "    "
   ]
  },
  {
   "cell_type": "code",
   "execution_count": 62,
   "id": "47d4702f",
   "metadata": {},
   "outputs": [],
   "source": [
    "tool_node=ToolNode(tools)\n"
   ]
  },
  {
   "cell_type": "code",
   "execution_count": 63,
   "id": "0606ec45",
   "metadata": {},
   "outputs": [
    {
     "data": {
      "text/plain": [
       "<langgraph.graph.state.StateGraph at 0x1e0dcc17490>"
      ]
     },
     "execution_count": 63,
     "metadata": {},
     "output_type": "execute_result"
    }
   ],
   "source": [
    "workflow2=StateGraph(MessagesState)\n",
    "\n",
    "workflow2.add_node(\"llmwithtool\",call_model)\n",
    "\n",
    "workflow2.add_node(\"mytools\",tool_node)\n",
    "\n",
    "workflow2.add_edge(START,\"llmwithtool\")\n",
    "\n",
    "workflow2.add_conditional_edges(\"llmwithtool\",\n",
    "                                router_function,\n",
    "                                {\"tools\":\"mytools\",\n",
    "                                 END:END})\n"
   ]
  },
  {
   "cell_type": "code",
   "execution_count": 64,
   "id": "47423a63",
   "metadata": {},
   "outputs": [
    {
     "data": {
      "image/png": "[encoded data removed]",
      "text/plain": [
       "<langgraph.graph.state.CompiledStateGraph object at 0x000001E0DCC176F0>"
      ]
     },
     "execution_count": 64,
     "metadata": {},
     "output_type": "execute_result"
    }
   ],
   "source": [
    "app2=workflow2.compile()\n",
    "app2"
   ]
  },
  {
   "cell_type": "code",
   "execution_count": 65,
   "id": "092d7937",
   "metadata": {},
   "outputs": [
    {
     "data": {
      "text/plain": [
       "'the temp is 25 degree and cloudy'"
      ]
     },
     "execution_count": 65,
     "metadata": {},
     "output_type": "execute_result"
    }
   ],
   "source": [
    "response=app2.invoke({\"messages\":[\"what is a weather in bengraluru?\"]})\n",
    "response[\"messages\"][-1].content\n",
    "\n"
   ]
  },
  {
   "cell_type": "code",
   "execution_count": 66,
   "id": "f7d976dd",
   "metadata": {},
   "outputs": [
    {
     "data": {
      "text/plain": [
       "{'messages': [HumanMessage(content='what is a weather in delhi?', additional_kwargs={}, response_metadata={}, id='c25657f3-9c71-4989-b8ee-591c5ce9808e'),\n",
       "  AIMessage(content='', additional_kwargs={'reasoning_content': 'Okay, the user is asking about the weather in Delhi. I need to figure out the best way to help them. I remember I have a tool called \"search\" that can assist with weather information. \\n\\nFirst, I should call the \"search\" function with the query \"weather in Delhi.\" That should provide the current weather details. \\n\\nWait, maybe I should check if the function requires any specific parameters. Oh, right, it just needs a query string. So, I\\'ll structure the JSON with the name as \"search\" and the arguments as an object containing \"query\" set to \"weather in Delhi.\"\\n\\nLet me make sure the syntax is correct. The function name is \"search\" and the arguments should be a JSON object with \"query\" as the key. So, the tool call should look like this:\\n\\n{\"name\": \"search\", \"arguments\": {\"query\": \"weather in Delhi\"}}. \\n\\nI think that\\'s all. This should trigger the search tool to fetch the latest weather information for Delhi.\\n', 'tool_calls': [{'id': 'kscz2sfey', 'function': {'arguments': '{\"query\":\"weather in Delhi\"}', 'name': 'search'}, 'type': 'function'}]}, response_metadata={'token_usage': {'completion_tokens': 236, 'prompt_tokens': 133, 'total_tokens': 369, 'completion_time': 1.045004681, 'prompt_time': 0.008552817, 'queue_time': 0.05857805699999999, 'total_time': 1.053557498}, 'model_name': 'deepseek-r1-distill-llama-70b', 'system_fingerprint': 'fp_76307ac09b', 'finish_reason': 'tool_calls', 'logprobs': None}, id='run--13dc9224-7cca-4cda-86d4-1b602df0bd1b-0', tool_calls=[{'name': 'search', 'args': {'query': 'weather in Delhi'}, 'id': 'kscz2sfey', 'type': 'tool_call'}], usage_metadata={'input_tokens': 133, 'output_tokens': 236, 'total_tokens': 369}),\n",
       "  ToolMessage(content='the temp is 45 degree and sunny', name='search', id='946daa2e-d625-495d-99b0-81ca9d53fbde', tool_call_id='kscz2sfey')]}"
      ]
     },
     "execution_count": 66,
     "metadata": {},
     "output_type": "execute_result"
    }
   ],
   "source": [
    "app2.invoke({\"messages\":[\"what is a weather in delhi?\"]})\n"
   ]
  },
  {
   "cell_type": "code",
   "execution_count": 67,
   "id": "4eb2576c",
   "metadata": {},
   "outputs": [
    {
     "data": {
      "text/plain": [
       "{'messages': [HumanMessage(content='hi how are you?', additional_kwargs={}, response_metadata={}, id='035d12c2-db3d-4d60-bb5a-518262ae6137'),\n",
       "  AIMessage(content=\"Hello! I'm just a program, so I don't have feelings, but I'm here and ready to help you with whatever you need. How can I assist you today?\", additional_kwargs={'reasoning_content': 'Okay, the user greeted me with \"hi how are you?\" which is a friendly opener. I need to respond appropriately. Since I\\'m an AI, I don\\'t have feelings, but I should acknowledge their greeting. I\\'ll mention that I\\'m just a program and offer assistance. Maybe ask how I can help them today to keep the conversation going.\\n'}, response_metadata={'token_usage': {'completion_tokens': 112, 'prompt_tokens': 130, 'total_tokens': 242, 'completion_time': 0.499578654, 'prompt_time': 0.008510097, 'queue_time': 0.058835992999999996, 'total_time': 0.508088751}, 'model_name': 'deepseek-r1-distill-llama-70b', 'system_fingerprint': 'fp_76307ac09b', 'finish_reason': 'stop', 'logprobs': None}, id='run--2486ceb9-abaf-4c14-82cc-1764b431be57-0', usage_metadata={'input_tokens': 130, 'output_tokens': 112, 'total_tokens': 242})]}"
      ]
     },
     "execution_count": 67,
     "metadata": {},
     "output_type": "execute_result"
    }
   ],
   "source": [
    "app2.invoke({\"messages\":[\"hi how are you?\"]})\n"
   ]
  },
  {
   "cell_type": "code",
   "execution_count": 68,
   "id": "f8e56b25",
   "metadata": {},
   "outputs": [
    {
     "name": "stderr",
     "output_type": "stream",
     "text": [
      "Adding an edge to a graph that has already been compiled. This will not be reflected in the compiled graph.\n"
     ]
    },
    {
     "data": {
      "text/plain": [
       "<langgraph.graph.state.StateGraph at 0x1e0dcc17490>"
      ]
     },
     "execution_count": 68,
     "metadata": {},
     "output_type": "execute_result"
    }
   ],
   "source": [
    "workflow2.add_edge(\"mytools\",\"llmwithtool\")\n"
   ]
  },
  {
   "cell_type": "code",
   "execution_count": 69,
   "id": "0e949805",
   "metadata": {},
   "outputs": [
    {
     "data": {
      "image/png": "[encoded data removed]",
      "text/plain": [
       "<langgraph.graph.state.CompiledStateGraph object at 0x000001E0DBE3B530>"
      ]
     },
     "execution_count": 69,
     "metadata": {},
     "output_type": "execute_result"
    }
   ],
   "source": [
    "app3=workflow2.compile()\n",
    "app3"
   ]
  },
  {
   "cell_type": "code",
   "execution_count": 70,
   "id": "c7378835",
   "metadata": {},
   "outputs": [
    {
     "name": "stdout",
     "output_type": "stream",
     "text": [
      "here is output from llmwithtool\n",
      "_______\n",
      "{'messages': [AIMessage(content='', additional_kwargs={'reasoning_content': 'Okay, the user is asking about the weather in New Delhi. I need to figure out the best way to help them. They mentioned using a tool called \"search\" which is designed for weather queries. So, I should use that tool.\\n\\nFirst, I\\'ll structure the function call. The function name is \"search\" and the argument is a query string. The query should clearly state \"weather in New Delhi\" so the tool can fetch the correct information.\\n\\nI should make sure the JSON is properly formatted. The arguments object should have a \"query\" key with the string value. Then, wrap it all in the tool_call XML tags as specified.\\n\\nLet me double-check the syntax to avoid any mistakes. The function name is correct, and the query is clear. That should do it.\\n', 'tool_calls': [{'id': 'mtzdyt4d1', 'function': {'arguments': '{\"query\":\"weather in New Delhi\"}', 'name': 'search'}, 'type': 'function'}]}, response_metadata={'token_usage': {'completion_tokens': 190, 'prompt_tokens': 134, 'total_tokens': 324, 'completion_time': 0.908818763, 'prompt_time': 0.008557497, 'queue_time': 0.056391833, 'total_time': 0.91737626}, 'model_name': 'deepseek-r1-distill-llama-70b', 'system_fingerprint': 'fp_76307ac09b', 'finish_reason': 'tool_calls', 'logprobs': None}, id='run--6ee48e90-2e18-4311-a2de-f665104ac326-0', tool_calls=[{'name': 'search', 'args': {'query': 'weather in New Delhi'}, 'id': 'mtzdyt4d1', 'type': 'tool_call'}], usage_metadata={'input_tokens': 134, 'output_tokens': 190, 'total_tokens': 324})]}\n",
      "\n",
      "\n",
      "here is output from mytools\n",
      "_______\n",
      "{'messages': [ToolMessage(content='the temp is 45 degree and sunny', name='search', id='cee53480-a747-4852-8238-e819ae777d8f', tool_call_id='mtzdyt4d1')]}\n",
      "\n",
      "\n",
      "here is output from llmwithtool\n",
      "_______\n",
      "{'messages': [AIMessage(content=\"The current weather in New Delhi is 45 degrees and sunny. Is there anything else you'd like to know about the weather?\", additional_kwargs={'reasoning_content': 'Okay, the user asked about the weather in New Delhi, so I called the search tool with that query. The tool responded that the temperature is 45 degrees and sunny. Now, the user might need more details or perhaps the current weather conditions. I should ask if they need anything else related to the weather to provide better assistance.\\n'}, response_metadata={'token_usage': {'completion_tokens': 98, 'prompt_tokens': 193, 'total_tokens': 291, 'completion_time': 0.451745619, 'prompt_time': 0.01197514, 'queue_time': 0.058639279999999995, 'total_time': 0.463720759}, 'model_name': 'deepseek-r1-distill-llama-70b', 'system_fingerprint': 'fp_76307ac09b', 'finish_reason': 'stop', 'logprobs': None}, id='run--d5fb87a3-92a3-488b-9307-9c5dc8a13270-0', usage_metadata={'input_tokens': 193, 'output_tokens': 98, 'total_tokens': 291})]}\n",
      "\n",
      "\n"
     ]
    }
   ],
   "source": [
    "for output in app3.stream({\"messages\":[\"what is a weather in new delhi?\"]}):\n",
    "    for key,value in output.items():\n",
    "        print(f\"here is output from {key}\")\n",
    "        print(\"_______\")\n",
    "        print(value)\n",
    "        print(\"\\n\")\n",
    "    "
   ]
  },
  {
   "cell_type": "code",
   "execution_count": 71,
   "id": "26c75aee",
   "metadata": {},
   "outputs": [],
   "source": [
    "from langgraph.checkpoint.memory import MemorySaver\n",
    "memory=MemorySaver()\n"
   ]
  },
  {
   "cell_type": "code",
   "execution_count": 72,
   "id": "c368b264",
   "metadata": {},
   "outputs": [
    {
     "data": {
      "text/plain": [
       "<langgraph.graph.state.StateGraph at 0x1e0dcc16ea0>"
      ]
     },
     "execution_count": 72,
     "metadata": {},
     "output_type": "execute_result"
    }
   ],
   "source": [
    "workflow3=StateGraph(MessagesState)\n",
    "\n",
    "workflow3.add_node(\"llmwithtool\",call_model)\n",
    "\n",
    "workflow3.add_node(\"mytools\",tool_node)\n",
    "\n",
    "workflow3.add_edge(START,\"llmwithtool\")\n",
    "\n",
    "workflow3.add_conditional_edges(\"llmwithtool\",\n",
    "                                router_function,\n",
    "                                {\"tools\":\"mytools\",\n",
    "                                 END:END})\n",
    "\n",
    "workflow3.add_edge(\"mytools\",\"llmwithtool\")"
   ]
  },
  {
   "cell_type": "code",
   "execution_count": 74,
   "id": "8d2f4cac",
   "metadata": {},
   "outputs": [
    {
     "data": {
      "image/png": "[encoded data removed]",
      "text/plain": [
       "<langgraph.graph.state.CompiledStateGraph object at 0x000001E0DCCE4E20>"
      ]
     },
     "execution_count": 74,
     "metadata": {},
     "output_type": "execute_result"
    }
   ],
   "source": [
    "app4=workflow3.compile(checkpointer=memory)\n",
    "app4"
   ]
  },
  {
   "cell_type": "code",
   "execution_count": 75,
   "id": "3736f9f1",
   "metadata": {},
   "outputs": [],
   "source": [
    "\n",
    "config={\"configurable\": {\"thread_id\": \"1\"}}"
   ]
  },
  {
   "cell_type": "code",
   "execution_count": 76,
   "id": "f74e00c4",
   "metadata": {},
   "outputs": [],
   "source": [
    "events=app4.stream(\n",
    "    {\"messages\":[\"what is a weather in new delhi?\"]},config=config,stream_mode=\"values\"\n",
    "    )"
   ]
  },
  {
   "cell_type": "code",
   "execution_count": 77,
   "id": "47316b25",
   "metadata": {},
   "outputs": [
    {
     "name": "stdout",
     "output_type": "stream",
     "text": [
      "================================\u001b[1m Human Message \u001b[0m=================================\n",
      "\n",
      "what is a weather in new delhi?\n",
      "==================================\u001b[1m Ai Message \u001b[0m==================================\n",
      "Tool Calls:\n",
      "  search (jacmvqtj9)\n",
      " Call ID: jacmvqtj9\n",
      "  Args:\n",
      "    query: weather in New Delhi\n",
      "=================================\u001b[1m Tool Message \u001b[0m=================================\n",
      "Name: search\n",
      "\n",
      "the temp is 45 degree and sunny\n",
      "==================================\u001b[1m Ai Message \u001b[0m==================================\n",
      "\n",
      "The weather in New Delhi is currently 45 degrees and sunny. It's a great day to be outdoors!\n"
     ]
    }
   ],
   "source": [
    "\n",
    "for event in events:\n",
    "    event[\"messages\"][-1].pretty_print()\n",
    "    "
   ]
  },
  {
   "cell_type": "code",
   "execution_count": 78,
   "id": "0e1d7fa3",
   "metadata": {},
   "outputs": [
    {
     "name": "stdout",
     "output_type": "stream",
     "text": [
      "================================\u001b[1m Human Message \u001b[0m=================================\n",
      "\n",
      "what is a weather in indore?\n",
      "==================================\u001b[1m Ai Message \u001b[0m==================================\n",
      "Tool Calls:\n",
      "  search (6edgyg2px)\n",
      " Call ID: 6edgyg2px\n",
      "  Args:\n",
      "    query: weather in Indore\n",
      "=================================\u001b[1m Tool Message \u001b[0m=================================\n",
      "Name: search\n",
      "\n",
      "the temp is 25 degree and cloudy\n",
      "==================================\u001b[1m Ai Message \u001b[0m==================================\n",
      "\n",
      "The weather in Indore is currently 25 degrees and cloudy. It's a nice day to enjoy outdoor activities!\n"
     ]
    }
   ],
   "source": [
    "\n",
    "events=app4.stream(\n",
    "    {\"messages\":[\"what is a weather in indore?\"]},config=config,stream_mode=\"values\"\n",
    "    )\n",
    "\n",
    "\n",
    "for event in events:\n",
    "    event[\"messages\"][-1].pretty_print()\n",
    "\n",
    "    "
   ]
  },
  {
   "cell_type": "code",
   "execution_count": 79,
   "id": "31508541",
   "metadata": {},
   "outputs": [
    {
     "data": {
      "text/plain": [
       "{'v': 3,\n",
       " 'ts': '2025-07-17T19:27:49.156270+00:00',\n",
       " 'id': '1f063441-fd68-62c7-8008-e12933d8bf23',\n",
       " 'channel_versions': {'__start__': '00000000000000000000000000000007.0.9750711456828471',\n",
       "  'messages': '00000000000000000000000000000010.0.07567919572378468',\n",
       "  'branch:to:llmwithtool': '00000000000000000000000000000010.0.5744112157876589',\n",
       "  'branch:to:mytools': '00000000000000000000000000000009.0.7892715918093149'},\n",
       " 'versions_seen': {'__input__': {},\n",
       "  '__start__': {'__start__': '00000000000000000000000000000006.0.3911611227273837'},\n",
       "  'llmwithtool': {'branch:to:llmwithtool': '00000000000000000000000000000009.0.9988105548811956'},\n",
       "  'mytools': {'branch:to:mytools': '00000000000000000000000000000008.0.9796703382753579'}},\n",
       " 'pending_sends': [],\n",
       " 'channel_values': {'messages': [HumanMessage(content='what is a weather in new delhi?', additional_kwargs={}, response_metadata={}, id='e3315255-d177-4135-8ccf-8325600315fb'),\n",
       "   AIMessage(content='', additional_kwargs={'reasoning_content': 'Okay, the user is asking about the weather in New Delhi. I need to find the current weather information there. I\\'ll use the search tool provided. The function name is \"search\" and it requires a query parameter. I\\'ll set the query to \"weather in New Delhi\" and call the tool.\\n', 'tool_calls': [{'id': 'jacmvqtj9', 'function': {'arguments': '{\"query\":\"weather in New Delhi\"}', 'name': 'search'}, 'type': 'function'}]}, response_metadata={'token_usage': {'completion_tokens': 88, 'prompt_tokens': 134, 'total_tokens': 222, 'completion_time': 0.387575998, 'prompt_time': 0.0090512, 'queue_time': 0.05431512, 'total_time': 0.396627198}, 'model_name': 'deepseek-r1-distill-llama-70b', 'system_fingerprint': 'fp_76307ac09b', 'finish_reason': 'tool_calls', 'logprobs': None}, id='run--97404a32-5fe3-4fde-b22c-44f7294169c2-0', tool_calls=[{'name': 'search', 'args': {'query': 'weather in New Delhi'}, 'id': 'jacmvqtj9', 'type': 'tool_call'}], usage_metadata={'input_tokens': 134, 'output_tokens': 88, 'total_tokens': 222}),\n",
       "   ToolMessage(content='the temp is 45 degree and sunny', name='search', id='11d1b9ad-d11a-4e9b-9ea6-b7ec3ec7edda', tool_call_id='jacmvqtj9'),\n",
       "   AIMessage(content=\"The weather in New Delhi is currently 45 degrees and sunny. It's a great day to be outdoors!\", additional_kwargs={'reasoning_content': \"Okay, so the user asked about the weather in New Delhi. I called the search tool with that query.\\n\\nThe tool's response was that the temperature is 45 degrees and sunny. That's pretty hot!\\n\\nI need to make sure the user understands the weather conditions clearly.\\n\\nMaybe I should present the information in a friendly way, perhaps suggesting it's ideal for outdoor activities.\\n\\nI'll keep it concise and helpful.\\n\"}, response_metadata={'token_usage': {'completion_tokens': 110, 'prompt_tokens': 192, 'total_tokens': 302, 'completion_time': 0.637316513, 'prompt_time': 0.015530987, 'queue_time': 0.058741735, 'total_time': 0.6528475}, 'model_name': 'deepseek-r1-distill-llama-70b', 'system_fingerprint': 'fp_76307ac09b', 'finish_reason': 'stop', 'logprobs': None}, id='run--fa5fad31-e577-41b2-85a9-adb6ee7396cf-0', usage_metadata={'input_tokens': 192, 'output_tokens': 110, 'total_tokens': 302}),\n",
       "   HumanMessage(content='what is a weather in indore?', additional_kwargs={}, response_metadata={}, id='f45a170e-0f21-4625-a7e9-0c20c2291da1'),\n",
       "   AIMessage(content='', additional_kwargs={'reasoning_content': 'Okay, the user is asking about the weather in Indore. I remember in the previous conversation, they asked about New Delhi\\'s weather, and I used the search tool to find that it was 45 degrees and sunny. Now, they\\'re asking about Indore, so I should follow the same process.\\n\\nFirst, I need to call the search function with \"weather in Indore\" as the query. That should give me the current weather conditions. Once I get the data, I\\'ll present it clearly, maybe mention the temperature and whether it\\'s sunny, cloudy, etc. Also, adding a friendly comment like suggesting it\\'s a good day to be outdoors would make the response more engaging, just like before.\\n\\nI should make sure the response is concise and matches the format the user expects, keeping it helpful and informative.\\n', 'tool_calls': [{'id': '6edgyg2px', 'function': {'arguments': '{\"query\":\"weather in Indore\"}', 'name': 'search'}, 'type': 'function'}]}, response_metadata={'token_usage': {'completion_tokens': 188, 'prompt_tokens': 225, 'total_tokens': 413, 'completion_time': 0.896588368, 'prompt_time': 0.014902494, 'queue_time': 0.058411196, 'total_time': 0.911490862}, 'model_name': 'deepseek-r1-distill-llama-70b', 'system_fingerprint': 'fp_76307ac09b', 'finish_reason': 'tool_calls', 'logprobs': None}, id='run--3a863a4d-9eca-473a-ab24-2f1d7d99cc9e-0', tool_calls=[{'name': 'search', 'args': {'query': 'weather in Indore'}, 'id': '6edgyg2px', 'type': 'tool_call'}], usage_metadata={'input_tokens': 225, 'output_tokens': 188, 'total_tokens': 413}),\n",
       "   ToolMessage(content='the temp is 25 degree and cloudy', name='search', id='1235f378-21c2-49d7-b52f-4724837689bc', tool_call_id='6edgyg2px'),\n",
       "   AIMessage(content=\"The weather in Indore is currently 25 degrees and cloudy. It's a nice day to enjoy outdoor activities!\", additional_kwargs={'reasoning_content': 'Alright, the user is asking about the weather in Indore. I remember from the previous conversation that they asked about the weather in New Delhi, and I used the search tool to find that information. So, I should follow the same process here.\\n\\nFirst, I need to call the search function with the query \"weather in Indore\". That should give me the current weather details. Once I have that information, I can provide the user with a helpful response, just like I did for New Delhi.\\n\\nLooking at the tool output, it says the temperature is 25 degrees and cloudy. That seems pleasant, so I can mention that it\\'s a nice day to be outside, maybe suggest activities like going for a walk or having a picnic.\\n\\nI should make sure my response is friendly and informative, just like before. Keeping the tone consistent will help the user feel comfortable asking more questions in the future.\\n'}, response_metadata={'token_usage': {'completion_tokens': 209, 'prompt_tokens': 284, 'total_tokens': 493, 'completion_time': 1.003700971, 'prompt_time': 0.019432484, 'queue_time': 0.05260809600000001, 'total_time': 1.023133455}, 'model_name': 'deepseek-r1-distill-llama-70b', 'system_fingerprint': 'fp_76307ac09b', 'finish_reason': 'stop', 'logprobs': None}, id='run--399ac271-a93a-4ad5-8dd1-50aef8ca8985-0', usage_metadata={'input_tokens': 284, 'output_tokens': 209, 'total_tokens': 493})]}}"
      ]
     },
     "execution_count": 79,
     "metadata": {},
     "output_type": "execute_result"
    }
   ],
   "source": [
    "memory.get(config)\n"
   ]
  },
  {
   "cell_type": "code",
   "execution_count": 80,
   "id": "0308782c",
   "metadata": {},
   "outputs": [],
   "source": [
    "from langchain.tools import tool\n",
    "\n",
    "@tool\n",
    "def multiply(a: int, b: int) -> int:\n",
    "    \"\"\"\n",
    "    Multiply two integers.\n",
    "\n",
    "    Args:\n",
    "        a (int): The first integer.\n",
    "        b (int): The second integer.\n",
    "\n",
    "    Returns:\n",
    "        int: The product of a and b.\n",
    "    \"\"\"\n",
    "    return a * b\n",
    "\n",
    "@tool\n",
    "def add(a: int, b: int) -> int:\n",
    "    \"\"\"\n",
    "    Add two integers.\n",
    "\n",
    "    Args:\n",
    "        a (int): The first integer.\n",
    "        b (int): The second integer.\n",
    "\n",
    "    Returns:\n",
    "        int: The sum of a and b.\n",
    "    \"\"\"\n",
    "    return a + b\n",
    "\n",
    "@tool\n",
    "def divide(a: int, b: int) -> float:\n",
    "    \"\"\"\n",
    "    Divide two integers.\n",
    "\n",
    "    Args:\n",
    "        a (int): The numerator.\n",
    "        b (int): The denominator (must not be 0).\n",
    "\n",
    "    Returns:\n",
    "        float: The result of division.\n",
    "    \"\"\"\n",
    "    if b == 0:\n",
    "        raise ValueError(\"Denominator cannot be zero.\")\n",
    "    return a / b"
   ]
  },
  {
   "cell_type": "code",
   "execution_count": 81,
   "id": "7ac94020",
   "metadata": {},
   "outputs": [],
   "source": [
    "from langchain_community.tools import DuckDuckGoSearchRun\n",
    "search=DuckDuckGoSearchRun()"
   ]
  },
  {
   "cell_type": "code",
   "execution_count": 82,
   "id": "29453766",
   "metadata": {},
   "outputs": [
    {
     "ename": "DuckDuckGoSearchException",
     "evalue": "https://html.duckduckgo.com/html 202 Ratelimit",
     "output_type": "error",
     "traceback": [
      "\u001b[31m---------------------------------------------------------------------------\u001b[39m",
      "\u001b[31mDuckDuckGoSearchException\u001b[39m                 Traceback (most recent call last)",
      "\u001b[36mCell\u001b[39m\u001b[36m \u001b[39m\u001b[32mIn[82]\u001b[39m\u001b[32m, line 1\u001b[39m\n\u001b[32m----> \u001b[39m\u001b[32m1\u001b[39m \u001b[43msearch\u001b[49m\u001b[43m.\u001b[49m\u001b[43minvoke\u001b[49m\u001b[43m(\u001b[49m\u001b[33;43m\"\u001b[39;49m\u001b[33;43mwhat is the latest update on iphone17 release?\u001b[39;49m\u001b[33;43m\"\u001b[39;49m\u001b[43m)\u001b[49m\n",
      "\u001b[36mFile \u001b[39m\u001b[32mc:\\Users\\judirispah\\anaconda3\\envs\\agent\\Lib\\site-packages\\langchain_core\\tools\\base.py:599\u001b[39m, in \u001b[36mBaseTool.invoke\u001b[39m\u001b[34m(self, input, config, **kwargs)\u001b[39m\n\u001b[32m    591\u001b[39m \u001b[38;5;129m@override\u001b[39m\n\u001b[32m    592\u001b[39m \u001b[38;5;28;01mdef\u001b[39;00m\u001b[38;5;250m \u001b[39m\u001b[34minvoke\u001b[39m(\n\u001b[32m    593\u001b[39m     \u001b[38;5;28mself\u001b[39m,\n\u001b[32m   (...)\u001b[39m\u001b[32m    596\u001b[39m     **kwargs: Any,\n\u001b[32m    597\u001b[39m ) -> Any:\n\u001b[32m    598\u001b[39m     tool_input, kwargs = _prep_run_args(\u001b[38;5;28minput\u001b[39m, config, **kwargs)\n\u001b[32m--> \u001b[39m\u001b[32m599\u001b[39m     \u001b[38;5;28;01mreturn\u001b[39;00m \u001b[38;5;28;43mself\u001b[39;49m\u001b[43m.\u001b[49m\u001b[43mrun\u001b[49m\u001b[43m(\u001b[49m\u001b[43mtool_input\u001b[49m\u001b[43m,\u001b[49m\u001b[43m \u001b[49m\u001b[43m*\u001b[49m\u001b[43m*\u001b[49m\u001b[43mkwargs\u001b[49m\u001b[43m)\u001b[49m\n",
      "\u001b[36mFile \u001b[39m\u001b[32mc:\\Users\\judirispah\\anaconda3\\envs\\agent\\Lib\\site-packages\\langchain_core\\tools\\base.py:883\u001b[39m, in \u001b[36mBaseTool.run\u001b[39m\u001b[34m(self, tool_input, verbose, start_color, color, callbacks, tags, metadata, run_name, run_id, config, tool_call_id, **kwargs)\u001b[39m\n\u001b[32m    881\u001b[39m \u001b[38;5;28;01mif\u001b[39;00m error_to_raise:\n\u001b[32m    882\u001b[39m     run_manager.on_tool_error(error_to_raise)\n\u001b[32m--> \u001b[39m\u001b[32m883\u001b[39m     \u001b[38;5;28;01mraise\u001b[39;00m error_to_raise\n\u001b[32m    884\u001b[39m output = _format_output(content, artifact, tool_call_id, \u001b[38;5;28mself\u001b[39m.name, status)\n\u001b[32m    885\u001b[39m run_manager.on_tool_end(output, color=color, name=\u001b[38;5;28mself\u001b[39m.name, **kwargs)\n",
      "\u001b[36mFile \u001b[39m\u001b[32mc:\\Users\\judirispah\\anaconda3\\envs\\agent\\Lib\\site-packages\\langchain_core\\tools\\base.py:852\u001b[39m, in \u001b[36mBaseTool.run\u001b[39m\u001b[34m(self, tool_input, verbose, start_color, color, callbacks, tags, metadata, run_name, run_id, config, tool_call_id, **kwargs)\u001b[39m\n\u001b[32m    850\u001b[39m     \u001b[38;5;28;01mif\u001b[39;00m config_param := _get_runnable_config_param(\u001b[38;5;28mself\u001b[39m._run):\n\u001b[32m    851\u001b[39m         tool_kwargs = tool_kwargs | {config_param: config}\n\u001b[32m--> \u001b[39m\u001b[32m852\u001b[39m     response = \u001b[43mcontext\u001b[49m\u001b[43m.\u001b[49m\u001b[43mrun\u001b[49m\u001b[43m(\u001b[49m\u001b[38;5;28;43mself\u001b[39;49m\u001b[43m.\u001b[49m\u001b[43m_run\u001b[49m\u001b[43m,\u001b[49m\u001b[43m \u001b[49m\u001b[43m*\u001b[49m\u001b[43mtool_args\u001b[49m\u001b[43m,\u001b[49m\u001b[43m \u001b[49m\u001b[43m*\u001b[49m\u001b[43m*\u001b[49m\u001b[43mtool_kwargs\u001b[49m\u001b[43m)\u001b[49m\n\u001b[32m    853\u001b[39m \u001b[38;5;28;01mif\u001b[39;00m \u001b[38;5;28mself\u001b[39m.response_format == \u001b[33m\"\u001b[39m\u001b[33mcontent_and_artifact\u001b[39m\u001b[33m\"\u001b[39m:\n\u001b[32m    854\u001b[39m     \u001b[38;5;28;01mif\u001b[39;00m \u001b[38;5;129;01mnot\u001b[39;00m \u001b[38;5;28misinstance\u001b[39m(response, \u001b[38;5;28mtuple\u001b[39m) \u001b[38;5;129;01mor\u001b[39;00m \u001b[38;5;28mlen\u001b[39m(response) != \u001b[32m2\u001b[39m:\n",
      "\u001b[36mFile \u001b[39m\u001b[32mc:\\Users\\judirispah\\anaconda3\\envs\\agent\\Lib\\site-packages\\langchain_community\\tools\\ddg_search\\tool.py:74\u001b[39m, in \u001b[36mDuckDuckGoSearchRun._run\u001b[39m\u001b[34m(self, query, run_manager)\u001b[39m\n\u001b[32m     68\u001b[39m \u001b[38;5;28;01mdef\u001b[39;00m\u001b[38;5;250m \u001b[39m\u001b[34m_run\u001b[39m(\n\u001b[32m     69\u001b[39m     \u001b[38;5;28mself\u001b[39m,\n\u001b[32m     70\u001b[39m     query: \u001b[38;5;28mstr\u001b[39m,\n\u001b[32m     71\u001b[39m     run_manager: Optional[CallbackManagerForToolRun] = \u001b[38;5;28;01mNone\u001b[39;00m,\n\u001b[32m     72\u001b[39m ) -> \u001b[38;5;28mstr\u001b[39m:\n\u001b[32m     73\u001b[39m \u001b[38;5;250m    \u001b[39m\u001b[33;03m\"\"\"Use the tool.\"\"\"\u001b[39;00m\n\u001b[32m---> \u001b[39m\u001b[32m74\u001b[39m     \u001b[38;5;28;01mreturn\u001b[39;00m \u001b[38;5;28;43mself\u001b[39;49m\u001b[43m.\u001b[49m\u001b[43mapi_wrapper\u001b[49m\u001b[43m.\u001b[49m\u001b[43mrun\u001b[49m\u001b[43m(\u001b[49m\u001b[43mquery\u001b[49m\u001b[43m)\u001b[49m\n",
      "\u001b[36mFile \u001b[39m\u001b[32mc:\\Users\\judirispah\\anaconda3\\envs\\agent\\Lib\\site-packages\\langchain_community\\utilities\\duckduckgo_search.py:114\u001b[39m, in \u001b[36mDuckDuckGoSearchAPIWrapper.run\u001b[39m\u001b[34m(self, query)\u001b[39m\n\u001b[32m    112\u001b[39m \u001b[38;5;250m\u001b[39m\u001b[33;03m\"\"\"Run query through DuckDuckGo and return concatenated results.\"\"\"\u001b[39;00m\n\u001b[32m    113\u001b[39m \u001b[38;5;28;01mif\u001b[39;00m \u001b[38;5;28mself\u001b[39m.source == \u001b[33m\"\u001b[39m\u001b[33mtext\u001b[39m\u001b[33m\"\u001b[39m:\n\u001b[32m--> \u001b[39m\u001b[32m114\u001b[39m     results = \u001b[38;5;28;43mself\u001b[39;49m\u001b[43m.\u001b[49m\u001b[43m_ddgs_text\u001b[49m\u001b[43m(\u001b[49m\u001b[43mquery\u001b[49m\u001b[43m)\u001b[49m\n\u001b[32m    115\u001b[39m \u001b[38;5;28;01melif\u001b[39;00m \u001b[38;5;28mself\u001b[39m.source == \u001b[33m\"\u001b[39m\u001b[33mnews\u001b[39m\u001b[33m\"\u001b[39m:\n\u001b[32m    116\u001b[39m     results = \u001b[38;5;28mself\u001b[39m._ddgs_news(query)\n",
      "\u001b[36mFile \u001b[39m\u001b[32mc:\\Users\\judirispah\\anaconda3\\envs\\agent\\Lib\\site-packages\\langchain_community\\utilities\\duckduckgo_search.py:64\u001b[39m, in \u001b[36mDuckDuckGoSearchAPIWrapper._ddgs_text\u001b[39m\u001b[34m(self, query, max_results)\u001b[39m\n\u001b[32m     61\u001b[39m \u001b[38;5;28;01mfrom\u001b[39;00m\u001b[38;5;250m \u001b[39m\u001b[34;01mduckduckgo_search\u001b[39;00m\u001b[38;5;250m \u001b[39m\u001b[38;5;28;01mimport\u001b[39;00m DDGS\n\u001b[32m     63\u001b[39m \u001b[38;5;28;01mwith\u001b[39;00m DDGS() \u001b[38;5;28;01mas\u001b[39;00m ddgs:\n\u001b[32m---> \u001b[39m\u001b[32m64\u001b[39m     ddgs_gen = \u001b[43mddgs\u001b[49m\u001b[43m.\u001b[49m\u001b[43mtext\u001b[49m\u001b[43m(\u001b[49m\n\u001b[32m     65\u001b[39m \u001b[43m        \u001b[49m\u001b[43mquery\u001b[49m\u001b[43m,\u001b[49m\n\u001b[32m     66\u001b[39m \u001b[43m        \u001b[49m\u001b[43mregion\u001b[49m\u001b[43m=\u001b[49m\u001b[38;5;28;43mself\u001b[39;49m\u001b[43m.\u001b[49m\u001b[43mregion\u001b[49m\u001b[43m,\u001b[49m\n\u001b[32m     67\u001b[39m \u001b[43m        \u001b[49m\u001b[43msafesearch\u001b[49m\u001b[43m=\u001b[49m\u001b[38;5;28;43mself\u001b[39;49m\u001b[43m.\u001b[49m\u001b[43msafesearch\u001b[49m\u001b[43m,\u001b[49m\n\u001b[32m     68\u001b[39m \u001b[43m        \u001b[49m\u001b[43mtimelimit\u001b[49m\u001b[43m=\u001b[49m\u001b[38;5;28;43mself\u001b[39;49m\u001b[43m.\u001b[49m\u001b[43mtime\u001b[49m\u001b[43m,\u001b[49m\n\u001b[32m     69\u001b[39m \u001b[43m        \u001b[49m\u001b[43mmax_results\u001b[49m\u001b[43m=\u001b[49m\u001b[43mmax_results\u001b[49m\u001b[43m \u001b[49m\u001b[38;5;129;43;01mor\u001b[39;49;00m\u001b[43m \u001b[49m\u001b[38;5;28;43mself\u001b[39;49m\u001b[43m.\u001b[49m\u001b[43mmax_results\u001b[49m\u001b[43m,\u001b[49m\n\u001b[32m     70\u001b[39m \u001b[43m        \u001b[49m\u001b[43mbackend\u001b[49m\u001b[43m=\u001b[49m\u001b[38;5;28;43mself\u001b[39;49m\u001b[43m.\u001b[49m\u001b[43mbackend\u001b[49m\u001b[43m,\u001b[49m\n\u001b[32m     71\u001b[39m \u001b[43m    \u001b[49m\u001b[43m)\u001b[49m\n\u001b[32m     72\u001b[39m     \u001b[38;5;28;01mif\u001b[39;00m ddgs_gen:\n\u001b[32m     73\u001b[39m         \u001b[38;5;28;01mreturn\u001b[39;00m [r \u001b[38;5;28;01mfor\u001b[39;00m r \u001b[38;5;129;01min\u001b[39;00m ddgs_gen]\n",
      "\u001b[36mFile \u001b[39m\u001b[32mc:\\Users\\judirispah\\anaconda3\\envs\\agent\\Lib\\site-packages\\duckduckgo_search\\duckduckgo_search.py:185\u001b[39m, in \u001b[36mDDGS.text\u001b[39m\u001b[34m(self, keywords, region, safesearch, timelimit, backend, max_results)\u001b[39m\n\u001b[32m    182\u001b[39m         logger.info(\u001b[33mf\u001b[39m\u001b[33m\"\u001b[39m\u001b[33mError to search using \u001b[39m\u001b[38;5;132;01m{\u001b[39;00mb\u001b[38;5;132;01m}\u001b[39;00m\u001b[33m backend: \u001b[39m\u001b[38;5;132;01m{\u001b[39;00mex\u001b[38;5;132;01m}\u001b[39;00m\u001b[33m\"\u001b[39m)\n\u001b[32m    183\u001b[39m         err = ex\n\u001b[32m--> \u001b[39m\u001b[32m185\u001b[39m \u001b[38;5;28;01mraise\u001b[39;00m DuckDuckGoSearchException(err)\n",
      "\u001b[31mDuckDuckGoSearchException\u001b[39m: https://html.duckduckgo.com/html 202 Ratelimit"
     ]
    }
   ],
   "source": [
    "search.invoke(\"what is the latest update on iphone17 release?\")\n"
   ]
  },
  {
   "cell_type": "code",
   "execution_count": 83,
   "id": "36995a70",
   "metadata": {},
   "outputs": [],
   "source": [
    "tools=[multiply, add, divide, search]\n"
   ]
  },
  {
   "cell_type": "code",
   "execution_count": 84,
   "id": "e386dcdd",
   "metadata": {},
   "outputs": [
    {
     "data": {
      "text/plain": [
       "'Hello! How can I assist you today?'"
      ]
     },
     "execution_count": 84,
     "metadata": {},
     "output_type": "execute_result"
    }
   ],
   "source": [
    "llm_with_tools=llm.bind_tools(tools)\n",
    "response=llm_with_tools.invoke(\"hi\")\n",
    "response.content\n"
   ]
  },
  {
   "cell_type": "code",
   "execution_count": 85,
   "id": "c544a40c",
   "metadata": {},
   "outputs": [
    {
     "data": {
      "text/plain": [
       "[]"
      ]
     },
     "execution_count": 85,
     "metadata": {},
     "output_type": "execute_result"
    }
   ],
   "source": [
    "response.tool_calls\n"
   ]
  },
  {
   "cell_type": "code",
   "execution_count": 86,
   "id": "e4d6c9f4",
   "metadata": {},
   "outputs": [
    {
     "data": {
      "text/plain": [
       "''"
      ]
     },
     "execution_count": 86,
     "metadata": {},
     "output_type": "execute_result"
    }
   ],
   "source": [
    "response=llm_with_tools.invoke(\"what is 2+2?\")\n",
    "response.content\n",
    "\n"
   ]
  },
  {
   "cell_type": "code",
   "execution_count": 87,
   "id": "a1dee521",
   "metadata": {},
   "outputs": [
    {
     "data": {
      "text/plain": [
       "[{'name': 'add',\n",
       "  'args': {'a': 2, 'b': 2},\n",
       "  'id': 'kwbazw0c1',\n",
       "  'type': 'tool_call'}]"
      ]
     },
     "execution_count": 87,
     "metadata": {},
     "output_type": "execute_result"
    }
   ],
   "source": [
    "response.tool_calls\n",
    "\n"
   ]
  },
  {
   "cell_type": "code",
   "execution_count": 88,
   "id": "18af51a7",
   "metadata": {},
   "outputs": [
    {
     "data": {
      "text/plain": [
       "''"
      ]
     },
     "execution_count": 88,
     "metadata": {},
     "output_type": "execute_result"
    }
   ],
   "source": [
    "response=llm_with_tools.invoke(\"what is 10/2?\")\n",
    "response.content\n"
   ]
  },
  {
   "cell_type": "code",
   "execution_count": 89,
   "id": "dc896ae2",
   "metadata": {},
   "outputs": [
    {
     "data": {
      "text/plain": [
       "[{'name': 'divide',\n",
       "  'args': {'a': 10, 'b': 2},\n",
       "  'id': 'y5np6w8e1',\n",
       "  'type': 'tool_call'}]"
      ]
     },
     "execution_count": 89,
     "metadata": {},
     "output_type": "execute_result"
    }
   ],
   "source": [
    "response.tool_calls\n"
   ]
  },
  {
   "cell_type": "code",
   "execution_count": 91,
   "id": "c8d94c9f",
   "metadata": {},
   "outputs": [
    {
     "data": {
      "text/plain": [
       "'The TATA Group was founded in 1868 by Jamsetji Tata, making it 155 years old as of 2023.'"
      ]
     },
     "execution_count": 91,
     "metadata": {},
     "output_type": "execute_result"
    }
   ],
   "source": [
    "response=llm_with_tools.invoke(\"what is a current age of the TATA Group?\")\n",
    "response.content\n"
   ]
  },
  {
   "cell_type": "code",
   "execution_count": null,
   "id": "533778d4",
   "metadata": {},
   "outputs": [],
   "source": [
    "SYSTEM_PROMPT=\"You are a helpful assistant tasked with using search and performing arithmetic on a set of inputs.\"\n",
    "user_query=[\"tell me what is 2+2\"]\n",
    "[SYSTEM_PROMPT]+user_query\n"
   ]
  },
  {
   "cell_type": "code",
   "execution_count": 93,
   "id": "c6ad7fe7",
   "metadata": {},
   "outputs": [],
   "source": [
    "\n",
    "def function_1(state:MessagesState):\n",
    "    \n",
    "    user_question=state[\"messages\"]\n",
    "    \n",
    "    input_question = [SYSTEM_PROMPT]+user_question\n",
    "    \n",
    "    response = llm_with_tools.invoke(input_question)\n",
    "    \n",
    "    return {\n",
    "        \"messages\":[response]\n",
    "    }\n",
    "    "
   ]
  },
  {
   "cell_type": "code",
   "execution_count": 96,
   "id": "11ae5fdf",
   "metadata": {},
   "outputs": [],
   "source": [
    "\n",
    "from langchain_core.messages import HumanMessage, SystemMessage\n",
    "from langgraph.graph import MessagesState,StateGraph, END, START\n",
    "from langgraph.prebuilt import ToolNode\n",
    "from langgraph.prebuilt import tools_condition\n",
    "\n"
   ]
  },
  {
   "cell_type": "code",
   "execution_count": 97,
   "id": "d6b4349c",
   "metadata": {},
   "outputs": [
    {
     "data": {
      "text/plain": [
       "<langgraph.graph.state.StateGraph at 0x1e0dcce58c0>"
      ]
     },
     "execution_count": 97,
     "metadata": {},
     "output_type": "execute_result"
    }
   ],
   "source": [
    "builder=StateGraph(MessagesState)\n",
    "builder.add_node(\"llm_decision_step\",function_1)\n",
    "builder.add_node(\"tools\",ToolNode(tools))\n",
    "builder.add_edge(START,\"llm_decision_step\")\n",
    "\n",
    "builder.add_conditional_edges(\n",
    "    \"llm_decision_step\",\n",
    "    tools_condition,\n",
    ")\n",
    "builder.add_edge(\"tools\",\"llm_decision_step\")\n",
    "\n"
   ]
  },
  {
   "cell_type": "code",
   "execution_count": 99,
   "id": "8abacdea",
   "metadata": {},
   "outputs": [
    {
     "data": {
      "image/png": "[encoded data removed]",
      "text/plain": [
       "<langgraph.graph.state.CompiledStateGraph object at 0x000001E0DCCE5AE0>"
      ]
     },
     "execution_count": 99,
     "metadata": {},
     "output_type": "execute_result"
    }
   ],
   "source": [
    "react_graph=builder.compile()\n",
    "react_graph\n"
   ]
  },
  {
   "cell_type": "code",
   "execution_count": 100,
   "id": "e8060c79",
   "metadata": {},
   "outputs": [],
   "source": [
    "message=[HumanMessage(content=\"What is 2 times of narendramodi's age?\")]\n"
   ]
  },
  {
   "cell_type": "code",
   "execution_count": 101,
   "id": "ad6ef2df",
   "metadata": {},
   "outputs": [
    {
     "data": {
      "text/plain": [
       "{'messages': [HumanMessage(content=\"What is 2 times of narendramodi's age?\", additional_kwargs={}, response_metadata={}, id='e65be619-d1be-49c9-9ca8-1c16bcfc6e99'),\n",
       "  AIMessage(content='', additional_kwargs={'reasoning_content': 'Okay, so the user is asking, \"What is 2 times of narendramodi\\'s age?\" Hmm, I need to figure out how to respond to this. First, I should break down the question. They want the age of Narendra Modi multiplied by 2. \\n\\nI know that Narendra Modi is a public figure, so his age is publicly available information. But I\\'m not sure exactly how old he is off the top of my head. Maybe I should look it up to get the correct number. \\n\\nI remember that I have access to a tool called duckduckgo_search which can help me find current information. So, I can use that to search for Narendra Modi\\'s age. That makes sense because it ensures I get the most accurate and up-to-date information.\\n\\nOnce I have his age, the next step is to multiply it by 2. I have a tool called multiply that can handle that. It takes two integers and returns their product. So, after getting the age, I can call the multiply function with the age and 2 as arguments.\\n\\nWait, but I should make sure that the age is an integer because the multiply function expects integers. If the search result gives me a different format, I might need to adjust it, but I think it will be straightforward.\\n\\nI also need to consider if there are any potential issues, like if the search doesn\\'t find the age. In that case, I should let the user know that I couldn\\'t find the information. But I\\'m pretty confident that DuckDuckGo will have the correct age.\\n\\nSo, the plan is: first, use duckduckgo_search to find Narendra Modi\\'s current age, then use multiply to double that number. This should give me the correct answer to the user\\'s question.\\n', 'tool_calls': [{'id': '0q0ay1hz9', 'function': {'arguments': '{\"query\":\"Narendra Modi age\"}', 'name': 'duckduckgo_search'}, 'type': 'function'}]}, response_metadata={'token_usage': {'completion_tokens': 465, 'prompt_tokens': 423, 'total_tokens': 888, 'completion_time': 1.9056907600000002, 'prompt_time': 0.034908169, 'queue_time': 0.058252900999999996, 'total_time': 1.940598929}, 'model_name': 'deepseek-r1-distill-llama-70b', 'system_fingerprint': 'fp_76307ac09b', 'finish_reason': 'tool_calls', 'logprobs': None}, id='run--ebbf6d80-9a40-4aa5-b00c-ed1dff35212c-0', tool_calls=[{'name': 'duckduckgo_search', 'args': {'query': 'Narendra Modi age'}, 'id': '0q0ay1hz9', 'type': 'tool_call'}], usage_metadata={'input_tokens': 423, 'output_tokens': 465, 'total_tokens': 888}),\n",
       "  ToolMessage(content=\"Error: DuckDuckGoSearchException(RatelimitException('https://lite.duckduckgo.com/lite/ 202 Ratelimit'))\\n Please fix your mistakes.\", name='duckduckgo_search', id='9fe44fbd-4df2-4fd9-ad81-aba6932a7912', tool_call_id='0q0ay1hz9', status='error'),\n",
       "  AIMessage(content='', additional_kwargs={'reasoning_content': 'Alright, let me try to figure this out. The user is asking, \"What is 2 times of narendramodi\\'s age?\" So, first, I need to understand what they\\'re asking for. They want to multiply Narendra Modi\\'s age by 2. \\n\\nOkay, so to do that, I need to find out how old Narendra Modi is. I remember that he\\'s the Prime Minister of India, so he\\'s a well-known figure. I think he was born in the early 1950s, but I\\'m not exactly sure of his exact age. Maybe around 70 something?\\n\\nBut wait, I should probably look up his exact age to be accurate. I\\'ll try using the DuckDuckGo tool to search for his age. So, I\\'ll call the duckduckgo_search function with the query \"Narendra Modi age\".\\n\\nHmm, but when I tried that, I got an error. It says something about a rate limit. Oh no, maybe I can\\'t use the tool right now because too many requests have been made. That\\'s frustrating because I need his age to calculate 2 times his age.\\n\\nIs there another way to find his age without using the tool? I know that he was born on September 17, 1950. Let me confirm that. Yes, that\\'s correct. So, as of 2023, he\\'s 73 years old. Okay, so now that I have his age, I can proceed.\\n\\nNow, the user wants 2 times his age. So, I\\'ll use the multiply function to calculate that. I\\'ll set a as 2 and b as 73. Multiplying these together gives me 146.\\n\\nWait, but I should make sure that the multiply function works correctly with these numbers. I\\'ll double-check the multiplication: 2 * 73 is indeed 146. So, everything looks good.\\n\\nI think that\\'s all the user needs. They just wanted to find out twice Narendra Modi\\'s age, and now I\\'ve got the answer. I hope they find this helpful!\\n', 'tool_calls': [{'id': 'jq6570d8d', 'function': {'arguments': '{\"a\":2,\"b\":73}', 'name': 'multiply'}, 'type': 'function'}]}, response_metadata={'token_usage': {'completion_tokens': 494, 'prompt_tokens': 512, 'total_tokens': 1006, 'completion_time': 2.135617491, 'prompt_time': 0.034677611, 'queue_time': 0.058371189000000004, 'total_time': 2.170295102}, 'model_name': 'deepseek-r1-distill-llama-70b', 'system_fingerprint': 'fp_76307ac09b', 'finish_reason': 'tool_calls', 'logprobs': None}, id='run--fda68627-9486-4130-9df5-648cebc0b08b-0', tool_calls=[{'name': 'multiply', 'args': {'a': 2, 'b': 73}, 'id': 'jq6570d8d', 'type': 'tool_call'}], usage_metadata={'input_tokens': 512, 'output_tokens': 494, 'total_tokens': 1006}),\n",
       "  ToolMessage(content='146', name='multiply', id='609f5ffb-b9a5-42a7-9138-c977a0f01039', tool_call_id='jq6570d8d'),\n",
       "  AIMessage(content=\"I'm sorry, but I can't provide that information due to the error in retrieving the data. If you could provide Narendra Modi's age, I can then multiply it by 2 for you.\", additional_kwargs={'reasoning_content': \"Alright, the user is asking for 2 times Narendra Modi's age. First, I need to find out how old he is. I tried using the DuckDuckGo tool to search for his age, but I got a rate limit error. That's frustrating because I can't proceed without his age. Maybe I should wait a bit and try again later? Alternatively, I could use a different search tool if available, but in this case, I'm limited to DuckDuckGo. Without the correct age, I can't accurately multiply by 2. I'll have to let the user know that I couldn't retrieve the information due to the error. Maybe suggest trying the search again or checking another source for his age.\\n\"}, response_metadata={'token_usage': {'completion_tokens': 192, 'prompt_tokens': 565, 'total_tokens': 757, 'completion_time': 0.916574142, 'prompt_time': 0.036314342, 'queue_time': 0.074768637, 'total_time': 0.952888484}, 'model_name': 'deepseek-r1-distill-llama-70b', 'system_fingerprint': 'fp_76307ac09b', 'finish_reason': 'stop', 'logprobs': None}, id='run--251d2057-4c9c-4137-823a-56a5f6cb21f3-0', usage_metadata={'input_tokens': 565, 'output_tokens': 192, 'total_tokens': 757})]}"
      ]
     },
     "execution_count": 101,
     "metadata": {},
     "output_type": "execute_result"
    }
   ],
   "source": [
    "react_graph.invoke({\"messages\":message})\n",
    "\n"
   ]
  },
  {
   "cell_type": "code",
   "execution_count": 102,
   "id": "892e47fb",
   "metadata": {},
   "outputs": [
    {
     "data": {
      "text/plain": [
       "{'messages': [HumanMessage(content='How much is the net worth of Elon Musk, and divide it by 2?', additional_kwargs={}, response_metadata={}, id='272a7e2e-7faa-4202-87fe-73e0d1fd69af'),\n",
       "  AIMessage(content='', additional_kwargs={'reasoning_content': \"Alright, so the user is asking for Elon Musk's net worth and then to divide it by 2. First, I need to find the current net worth. Since I don't have real-time data, I'll use the DuckDuckGo tool to search for the latest information. Once I have the net worth, I'll use the divide function to split it by 2 and provide the result.\\n\", 'tool_calls': [{'id': 'dx0t91gr2', 'function': {'arguments': '{\"query\":\"Elon Musk net worth 2023\"}', 'name': 'duckduckgo_search'}, 'type': 'function'}]}, response_metadata={'token_usage': {'completion_tokens': 212, 'prompt_tokens': 427, 'total_tokens': 639, 'completion_time': 0.770909091, 'prompt_time': 0.034875058, 'queue_time': 0.058369142, 'total_time': 0.805784149}, 'model_name': 'deepseek-r1-distill-llama-70b', 'system_fingerprint': 'fp_76307ac09b', 'finish_reason': 'tool_calls', 'logprobs': None}, id='run--0ec174e5-dab4-4e49-9e5f-52b37b2ec7ea-0', tool_calls=[{'name': 'duckduckgo_search', 'args': {'query': 'Elon Musk net worth 2023'}, 'id': 'dx0t91gr2', 'type': 'tool_call'}], usage_metadata={'input_tokens': 427, 'output_tokens': 212, 'total_tokens': 639}),\n",
       "  ToolMessage(content=\"Error: DuckDuckGoSearchException(RatelimitException('https://html.duckduckgo.com/html 202 Ratelimit'))\\n Please fix your mistakes.\", name='duckduckgo_search', id='9e2d2f1e-1500-4286-b1b3-d42f8965eb36', tool_call_id='dx0t91gr2', status='error'),\n",
       "  AIMessage(content=\"I'm unable to perform the DuckDuckGo search at this time. You can find Elon Musk's current net worth on reliable financial news websites like Forbes or Bloomberg, then divide it by 2. Let me know if you'd like help with the division once you have the number.\", additional_kwargs={'reasoning_content': \"Alright, the user is asking about Elon Musk's net worth and then dividing it by 2. I remember that I tried using DuckDuckGo to find the information, but I got a ratelimit error. That means I can't use the tool again right now. I should let the user know about the issue and suggest alternative ways to get the data, like checking reliable sources directly. Maybe offer further help once they have the number.\\n\"}, response_metadata={'token_usage': {'completion_tokens': 153, 'prompt_tokens': 517, 'total_tokens': 670, 'completion_time': 0.826299366, 'prompt_time': 0.041295002, 'queue_time': 0.057858558000000004, 'total_time': 0.867594368}, 'model_name': 'deepseek-r1-distill-llama-70b', 'system_fingerprint': 'fp_76307ac09b', 'finish_reason': 'stop', 'logprobs': None}, id='run--50eb9f6c-e98f-4fb2-bf82-9cc1d06b52ab-0', usage_metadata={'input_tokens': 517, 'output_tokens': 153, 'total_tokens': 670})]}"
      ]
     },
     "execution_count": 102,
     "metadata": {},
     "output_type": "execute_result"
    }
   ],
   "source": [
    "message = [HumanMessage(content=\"How much is the net worth of Elon Musk, and divide it by 2?\")]\n",
    "react_graph.invoke({\"messages\":message})\n"
   ]
  },
  {
   "cell_type": "code",
   "execution_count": null,
   "id": "a14f3fcb",
   "metadata": {},
   "outputs": [],
   "source": []
  }
 ],
 "metadata": {
  "kernelspec": {
   "display_name": "agent",
   "language": "python",
   "name": "python3"
  },
  "language_info": {
   "codemirror_mode": {
    "name": "ipython",
    "version": 3
   },
   "file_extension": ".py",
   "mimetype": "text/x-python",
   "name": "python",
   "nbconvert_exporter": "python",
   "pygments_lexer": "ipython3",
   "version": "3.13.0"
  }
 },
 "nbformat": 4,
 "nbformat_minor": 5
}
