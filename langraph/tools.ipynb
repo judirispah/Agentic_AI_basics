{
 "cells": [
  {
   "cell_type": "markdown",
   "id": "db939c9b",
   "metadata": {},
   "source": [
    "CUSTOM TOOL\n",
    "\n",
    "1.docstring is must\n",
    "\n",
    "2.invoke(key value pair)\n",
    "\n",
    "ELSE ERROR\n"
   ]
  },
  {
   "cell_type": "code",
   "execution_count": 1,
   "id": "62c43860",
   "metadata": {},
   "outputs": [],
   "source": [
    "from langchain.agents import tool"
   ]
  },
  {
   "cell_type": "code",
   "execution_count": 10,
   "id": "53ca3036",
   "metadata": {},
   "outputs": [],
   "source": [
    "@tool\n",
    "def mul(a:int,b:int):\n",
    "    '''returns multiplication'''\n",
    "    return a*b"
   ]
  },
  {
   "cell_type": "code",
   "execution_count": 11,
   "id": "bf382cfe",
   "metadata": {},
   "outputs": [
    {
     "data": {
      "text/plain": [
       "8"
      ]
     },
     "execution_count": 11,
     "metadata": {},
     "output_type": "execute_result"
    }
   ],
   "source": [
    "mul.invoke({'a':2,'b':4})"
   ]
  },
  {
   "cell_type": "code",
   "execution_count": 12,
   "id": "cd9ea7ca",
   "metadata": {},
   "outputs": [
    {
     "data": {
      "text/plain": [
       "'mul'"
      ]
     },
     "execution_count": 12,
     "metadata": {},
     "output_type": "execute_result"
    }
   ],
   "source": [
    "mul.name"
   ]
  },
  {
   "cell_type": "code",
   "execution_count": 13,
   "id": "a9403f03",
   "metadata": {},
   "outputs": [
    {
     "data": {
      "text/plain": [
       "'returns multiplication'"
      ]
     },
     "execution_count": 13,
     "metadata": {},
     "output_type": "execute_result"
    }
   ],
   "source": [
    "mul.description"
   ]
  },
  {
   "cell_type": "code",
   "execution_count": 14,
   "id": "6aa0d0c6",
   "metadata": {},
   "outputs": [
    {
     "data": {
      "text/plain": [
       "{'a': {'title': 'A', 'type': 'integer'},\n",
       " 'b': {'title': 'B', 'type': 'integer'}}"
      ]
     },
     "execution_count": 14,
     "metadata": {},
     "output_type": "execute_result"
    }
   ],
   "source": [
    "mul.args"
   ]
  },
  {
   "cell_type": "code",
   "execution_count": null,
   "id": "63fb68a7",
   "metadata": {},
   "outputs": [],
   "source": []
  }
 ],
 "metadata": {
  "kernelspec": {
   "display_name": "agent",
   "language": "python",
   "name": "python3"
  },
  "language_info": {
   "codemirror_mode": {
    "name": "ipython",
    "version": 3
   },
   "file_extension": ".py",
   "mimetype": "text/x-python",
   "name": "python",
   "nbconvert_exporter": "python",
   "pygments_lexer": "ipython3",
   "version": "3.13.0"
  }
 },
 "nbformat": 4,
 "nbformat_minor": 5
}
