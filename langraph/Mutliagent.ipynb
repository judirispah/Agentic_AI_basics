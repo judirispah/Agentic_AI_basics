{
 "cells": [
  {
   "cell_type": "code",
   "execution_count": 66,
   "id": "f4a71a28",
   "metadata": {},
   "outputs": [],
   "source": [
    "from dotenv import load_dotenv\n",
    "load_dotenv()\n",
    "import os\n",
    "from langchain_google_genai import ChatGoogleGenerativeAI\n",
    "\n",
    "google_api_key=os.environ['Gemini_API_key']\n"
   ]
  },
  {
   "cell_type": "code",
   "execution_count": 67,
   "id": "933dae78",
   "metadata": {},
   "outputs": [
    {
     "name": "stdout",
     "output_type": "stream",
     "text": [
      "Hi there! How can I help you today?\n"
     ]
    }
   ],
   "source": [
    "model=ChatGoogleGenerativeAI(model='gemini-1.5-flash',google_api_key=google_api_key)\n",
    "output=model.invoke(\"hi\")\n",
    "print(output.content)"
   ]
  },
  {
   "cell_type": "code",
   "execution_count": 68,
   "id": "f3aa16d5",
   "metadata": {},
   "outputs": [],
   "source": [
    "from langgraph.types import Command\n",
    "from langgraph.prebuilt import create_react_agent\n"
   ]
  },
  {
   "cell_type": "code",
   "execution_count": 69,
   "id": "2be7e558",
   "metadata": {},
   "outputs": [],
   "source": [
    "def add_number(state):\n",
    "    result=state[\"num1\"]+state[\"num2\"]\n",
    "    print(f\"addition is {result}\")\n",
    "    return Command(goto=\"multiply\",update={\"sum\":result})\n",
    "#goto=\"multiply\" tells LangGraph what node to execute next\n",
    "#update={\"sum\": result} updates the shared state by adding a new key \"sum\".\n",
    "\n"
   ]
  },
  {
   "cell_type": "code",
   "execution_count": 70,
   "id": "fd331964",
   "metadata": {},
   "outputs": [
    {
     "name": "stdout",
     "output_type": "stream",
     "text": [
      "addition is 30\n"
     ]
    },
    {
     "data": {
      "text/plain": [
       "Command(update={'sum': 30}, goto='multiply')"
      ]
     },
     "execution_count": 70,
     "metadata": {},
     "output_type": "execute_result"
    }
   ],
   "source": [
    "state={\"num1\":10,\"num2\":20}\n",
    "add_number(state)\n"
   ]
  },
  {
   "cell_type": "code",
   "execution_count": 71,
   "id": "6de59f21",
   "metadata": {},
   "outputs": [
    {
     "data": {
      "text/plain": [
       "{'num1': 10, 'num2': 20}"
      ]
     },
     "execution_count": 71,
     "metadata": {},
     "output_type": "execute_result"
    }
   ],
   "source": [
    "state"
   ]
  },
  {
   "cell_type": "markdown",
   "id": "12d5ac72",
   "metadata": {},
   "source": [
    "\n",
    "## Creating one dummy multiagent\n",
    "it is for network/collab multiagent"
   ]
  },
  {
   "cell_type": "code",
   "execution_count": 72,
   "id": "efdb2b5d",
   "metadata": {},
   "outputs": [],
   "source": [
    "from langchain_core.tools import tool\n"
   ]
  },
  {
   "cell_type": "code",
   "execution_count": 73,
   "id": "4809cfd4",
   "metadata": {},
   "outputs": [],
   "source": [
    "\n",
    "@tool\n",
    "def transfer_to_multiplication_expert():\n",
    "    \"\"\"Ask multiplication agent for help\"\"\"\n",
    "    return"
   ]
  },
  {
   "cell_type": "code",
   "execution_count": 74,
   "id": "732e6351",
   "metadata": {},
   "outputs": [],
   "source": [
    "\n",
    "@tool\n",
    "def transfer_to_addition_expert():\n",
    "    \"\"\"Ask addition agent for help\"\"\"\n",
    "    return"
   ]
  },
  {
   "cell_type": "code",
   "execution_count": 75,
   "id": "f6f6114e",
   "metadata": {},
   "outputs": [],
   "source": [
    "llm_with_tool=model.bind_tools([transfer_to_addition_expert])"
   ]
  },
  {
   "cell_type": "code",
   "execution_count": 76,
   "id": "c6af656c",
   "metadata": {},
   "outputs": [],
   "source": [
    "response=llm_with_tool.invoke(\"hi\")\n"
   ]
  },
  {
   "cell_type": "code",
   "execution_count": 77,
   "id": "262ed51e",
   "metadata": {},
   "outputs": [
    {
     "data": {
      "text/plain": [
       "'Hello! How can I help you today?'"
      ]
     },
     "execution_count": 77,
     "metadata": {},
     "output_type": "execute_result"
    }
   ],
   "source": [
    "response.content\n"
   ]
  },
  {
   "cell_type": "code",
   "execution_count": 78,
   "id": "415f51c3",
   "metadata": {},
   "outputs": [
    {
     "data": {
      "text/plain": [
       "[]"
      ]
     },
     "execution_count": 78,
     "metadata": {},
     "output_type": "execute_result"
    }
   ],
   "source": [
    "response.tool_calls\n"
   ]
  },
  {
   "cell_type": "code",
   "execution_count": 79,
   "id": "a4617045",
   "metadata": {},
   "outputs": [],
   "source": [
    "response=llm_with_tool.invoke(\"what is 2+2?\")\n"
   ]
  },
  {
   "cell_type": "code",
   "execution_count": 80,
   "id": "d60d1790",
   "metadata": {},
   "outputs": [
    {
     "data": {
      "text/plain": [
       "'I am sorry, I cannot answer this question. I do not have the functionality to perform calculations.'"
      ]
     },
     "execution_count": 80,
     "metadata": {},
     "output_type": "execute_result"
    }
   ],
   "source": [
    "response.content\n"
   ]
  },
  {
   "cell_type": "code",
   "execution_count": 81,
   "id": "4e6e1d21",
   "metadata": {},
   "outputs": [
    {
     "data": {
      "text/plain": [
       "[]"
      ]
     },
     "execution_count": 81,
     "metadata": {},
     "output_type": "execute_result"
    }
   ],
   "source": [
    "response.tool_calls\n"
   ]
  },
  {
   "cell_type": "code",
   "execution_count": 82,
   "id": "91dca07c",
   "metadata": {},
   "outputs": [],
   "source": [
    "\n",
    "system_prompt = (\n",
    "        \"You are an addition expert, you can ask the multiplication expert for help with multiplication.\"\n",
    "        \"Always do your portion of calculation before the handoff.\"\n",
    "    )"
   ]
  },
  {
   "cell_type": "code",
   "execution_count": 83,
   "id": "cbbd27b3",
   "metadata": {},
   "outputs": [],
   "source": [
    "messages = [{\"role\": \"system\", \"content\": system_prompt}] + [\"can you tell me the addition of 2 and 2?\"]\n"
   ]
  },
  {
   "cell_type": "code",
   "execution_count": 84,
   "id": "f702cf3c",
   "metadata": {},
   "outputs": [
    {
     "data": {
      "text/plain": [
       "[{'role': 'system',\n",
       "  'content': 'You are an addition expert, you can ask the multiplication expert for help with multiplication.Always do your portion of calculation before the handoff.'},\n",
       " 'can you tell me the addition of 2 and 2?']"
      ]
     },
     "execution_count": 84,
     "metadata": {},
     "output_type": "execute_result"
    }
   ],
   "source": [
    "messages\n"
   ]
  },
  {
   "cell_type": "code",
   "execution_count": 85,
   "id": "4bb6e498",
   "metadata": {},
   "outputs": [],
   "source": [
    "from typing_extensions import Literal\n",
    "from langgraph.graph import MessagesState,StateGraph, START,END"
   ]
  },
  {
   "cell_type": "code",
   "execution_count": 86,
   "id": "8719cd90",
   "metadata": {},
   "outputs": [],
   "source": [
    "def additional_expert(state:MessagesState)-> Command[Literal[\"multiplication_expert\", \"__end__\"]]:\n",
    "    \n",
    "    system_prompt = (\n",
    "        \"You are an addition expert, you can ask the multiplication expert for help with multiplication.\"\n",
    "        \"Always do your portion of calculation before the handoff.\"\n",
    "    )\n",
    "    \n",
    "    messages = [{\"role\": \"system\", \"content\": system_prompt}] + state[\"messages\"]\n",
    "    \n",
    "    \n",
    "    ai_msg = model.bind_tools([transfer_to_multiplication_expert]).invoke(messages)\n",
    "    \n",
    "    \n",
    "    if len(ai_msg.tool_calls) > 0:\n",
    "        tool_call_id = ai_msg.tool_calls[-1][\"id\"]\n",
    "        tool_msg = {\n",
    "            \"role\": \"tool\",\n",
    "            \"content\": \"Successfully transferred\",\n",
    "            \"tool_call_id\": tool_call_id,\n",
    "        }\n",
    "        \n",
    "        return Command(\n",
    "            goto=\"multiplication_expert\", update={\"messages\": [ai_msg, tool_msg]}\n",
    "        )\n",
    "    return {\"messages\": [ai_msg]}"
   ]
  },
  {
   "cell_type": "code",
   "execution_count": 87,
   "id": "6289ca4b",
   "metadata": {},
   "outputs": [],
   "source": [
    "\n",
    "##Agent2\n",
    "def multiplication_expert(state:MessagesState)-> Command[Literal[\"additional_expert\", \"__end__\"]]:\n",
    "    \n",
    "    system_prompt = (\n",
    "        \"You are a multiplication expert, you can ask an addition expert for help with addition. \"\n",
    "        \"Always do your portion of calculation before the handoff.\"\n",
    "    )\n",
    "    \n",
    "    messages = [{\"role\": \"system\", \"content\": system_prompt}] + state[\"messages\"]\n",
    "    \n",
    "    ai_msg = model.bind_tools([transfer_to_addition_expert]).invoke(messages)\n",
    "    \n",
    "    if len(ai_msg.tool_calls) > 0:\n",
    "        tool_call_id = ai_msg.tool_calls[-1][\"id\"]\n",
    "        tool_msg = {\n",
    "            \"role\": \"tool\",\n",
    "            \"content\": \"Successfully transferred\",\n",
    "            \"tool_call_id\": tool_call_id,\n",
    "        }\n",
    "        return Command(goto=\"additional_expert\", update={\"messages\": [ai_msg, tool_msg]})\n",
    "    return {\"messages\": [ai_msg]}"
   ]
  },
  {
   "cell_type": "code",
   "execution_count": 88,
   "id": "c74eb2f9",
   "metadata": {},
   "outputs": [],
   "source": [
    "graph=StateGraph(MessagesState)\n"
   ]
  },
  {
   "cell_type": "code",
   "execution_count": 89,
   "id": "3d443ab8",
   "metadata": {},
   "outputs": [
    {
     "data": {
      "text/plain": [
       "<langgraph.graph.state.StateGraph at 0x1f5ec7a8fc0>"
      ]
     },
     "execution_count": 89,
     "metadata": {},
     "output_type": "execute_result"
    }
   ],
   "source": [
    "graph.add_node(\"additional_expert\",additional_expert)\n",
    "graph.add_node(\"multiplication_expert\",multiplication_expert)"
   ]
  },
  {
   "cell_type": "code",
   "execution_count": 90,
   "id": "147d6d73",
   "metadata": {},
   "outputs": [
    {
     "data": {
      "text/plain": [
       "<langgraph.graph.state.StateGraph at 0x1f5ec7a8fc0>"
      ]
     },
     "execution_count": 90,
     "metadata": {},
     "output_type": "execute_result"
    }
   ],
   "source": [
    "graph.add_edge(START, \"additional_expert\")\n"
   ]
  },
  {
   "cell_type": "code",
   "execution_count": 91,
   "id": "c75e60a5",
   "metadata": {},
   "outputs": [],
   "source": [
    "app=graph.compile()\n"
   ]
  },
  {
   "cell_type": "code",
   "execution_count": 92,
   "id": "7485b15a",
   "metadata": {},
   "outputs": [
    {
     "data": {
      "text/plain": [
       "{'messages': [HumanMessage(content=\"what's (3 + 5) * 12. Provide me the output\", additional_kwargs={}, response_metadata={}, id='b1f00657-4880-4df0-8278-b4fd4925b17d'),\n",
       "  AIMessage(content='', additional_kwargs={}, response_metadata={'prompt_feedback': {'block_reason': 0, 'safety_ratings': []}, 'finish_reason': 'MALFORMED_FUNCTION_CALL', 'model_name': 'gemini-1.5-flash', 'safety_ratings': []}, id='run--d12590d6-773c-44fa-9e6c-eb1e2964c1b1-0', usage_metadata={'input_tokens': 58, 'output_tokens': 0, 'total_tokens': 58, 'input_token_details': {'cache_read': 0}})]}"
      ]
     },
     "execution_count": 92,
     "metadata": {},
     "output_type": "execute_result"
    }
   ],
   "source": [
    "result=app.invoke({\"messages\":[(\"user\",\"what's (3 + 5) * 12. Provide me the output\")]})\n",
    "result"
   ]
  },
  {
   "cell_type": "markdown",
   "id": "e74311ae",
   "metadata": {},
   "source": [
    "## With realtime tool\n"
   ]
  },
  {
   "cell_type": "code",
   "execution_count": null,
   "id": "d2942fe5",
   "metadata": {},
   "outputs": [],
   "source": []
  },
  {
   "cell_type": "code",
   "execution_count": null,
   "id": "066d6d39",
   "metadata": {},
   "outputs": [],
   "source": []
  }
 ],
 "metadata": {
  "kernelspec": {
   "display_name": "agent",
   "language": "python",
   "name": "python3"
  },
  "language_info": {
   "codemirror_mode": {
    "name": "ipython",
    "version": 3
   },
   "file_extension": ".py",
   "mimetype": "text/x-python",
   "name": "python",
   "nbconvert_exporter": "python",
   "pygments_lexer": "ipython3",
   "version": "3.13.5"
  }
 },
 "nbformat": 4,
 "nbformat_minor": 5
}
